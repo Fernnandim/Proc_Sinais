{
 "cells": [
  {
   "cell_type": "markdown",
   "metadata": {},
   "source": [
    "<img src=\"http://www3.ifmg.edu.br/site_campi/p/images/logos/Betim-Simples.png\" width=\"700\"></img>\n",
    "<b>Engenharia de Controle e Automação - Processamento de sinais</b> - Prof. Leandro Freitas\n",
    "\n",
    "# João Vitor Prata Moreira Salgado - 0038210\n",
    "# Fernando Andrade da Silva - 0037130\n",
    "## Trabalho Prático 05\n",
    "### Projeto de Filtros IIR\n"
   ]
  },
  {
   "cell_type": "markdown",
   "metadata": {},
   "source": [
    "## Introdução\n",
    "Aplicar um método em busca de uma resposta em frequência desejada, por uma função de transferência, cosiste numa razão de polinômios. De certa forma, na maioria das vezes, essa função de transferência resulta em uma resposta ao impulso com duração infinita, tal qual são nomeados de filtros com resposta ao impsulso de duração infinita (IIR). Esses filtros são capazes de aproximar uma resposta na frequência prescrita com um número de multiplicações menor que os filtros FIR, por esse motivo, os filtros IIR podem ser mais adequados a algumas aplicações práticas, especialmente aquelas envolvendo processamento de sinais em tempo real. Para isso, existem métodos clássicos para aproximações de filtros analógicos como de Butterworth, Chebyshev e elíptica, que são mais utilizados para aproximações de módulo prescritas."
   ]
  },
  {
   "cell_type": "markdown",
   "metadata": {},
   "source": [
    "## Objetivo\n",
    "Projeto e implementação de filtros IIR, em diferenter aproximações."
   ]
  },
  {
   "cell_type": "markdown",
   "metadata": {},
   "source": [
    "# PROJETO DE FILTROS IIR\n",
    "Para isso, considere o sinal: x(t) = 1,5 sin(2πa1t) − 3 sin(2πa2t) + 2 sin(2π(a1 + a2)t), em que a1 e a2 são respectivamente o último número do registro acadêmico (RA) de cada integrante da dupla, sendo que a1 < a2 e que a1 ≠ a2, sendo estes não nulos. Portanto, se os últimos números forem iguais ou um deles for zero, escolha o penúltimo dígito de um dos alunos."
   ]
  },
  {
   "cell_type": "code",
   "execution_count": null,
   "metadata": {},
   "outputs": [],
   "source": [
    "import numpy as np\n",
    "import scipy as sp\n",
    "import matplotlib.pyplot as plt\n",
    "import IPython.display as ipd\n",
    "from scipy.io import wavfile\n",
    "from scipy import signal"
   ]
  },
  {
   "cell_type": "code",
   "execution_count": null,
   "metadata": {},
   "outputs": [],
   "source": [
    "a1=1\n",
    "a2=3\n",
    "fs = 3200*(a1+a2)\n",
    "t = np.arange(0,100,1/fs)\n",
    "x = 5*np.sin(200*np.pi*a1*t) - 3*np.sin(200*np.pi*a2*t) + 4*np.sin(200*np.pi*(a1+a2)*t)"
   ]
  },
  {
   "cell_type": "code",
   "execution_count": null,
   "metadata": {},
   "outputs": [],
   "source": [
    "plt.figure(figsize=(20,5))\n",
    "plt.plot(t,x,'b')\n",
    "plt.xlabel('tempo [s]')\n",
    "plt.xlim(0,(np.pi/30))\n",
    "plt.show()"
   ]
  },
  {
   "cell_type": "code",
   "execution_count": null,
   "metadata": {},
   "outputs": [],
   "source": [
    "x_sp = np.fft.fft(x) #espectro do sinal\n",
    "x_freq = np.fft.fftfreq(len(x), 1/2/np.pi) \n",
    "plt.figure(figsize=(20,5))\n",
    "plt.plot(x_freq,abs(x_sp),'b')\n",
    "plt.xlabel('Frequencia [rad]')\n",
    "plt.xlim((0,0.3))\n",
    "plt.show()"
   ]
  },
  {
   "cell_type": "markdown",
   "metadata": {},
   "source": [
    "# Passa baixa\n",
    "## Filtro Butterworth\n",
    "\n",
    "a) Passa-baixas (ya): em que apenas a frequência correspondente à a1 apareça na saída do filtro;"
   ]
  },
  {
   "cell_type": "markdown",
   "metadata": {},
   "source": [
    "Aproximação por Butterworth é caracterizada por uma resposta maximamente plana, sendo que, sua atenuação \n",
    "aumenta lentamente com a frequência na faixa de passagem e rapidamente na faixa de rejeição. \n",
    "Além disso, podemos notar que ajustando a faixa de reijeição para mais ou para menos, há uma \n",
    "implicação direta na ordem do filtro, e essa ordem, corresponde numa variação da atenuação. "
   ]
  },
  {
   "cell_type": "code",
   "execution_count": null,
   "metadata": {},
   "outputs": [],
   "source": [
    "Ap = 0.5    #dB\n",
    "Ar = 65     #dB\n",
    "gp = -Ap\n",
    "gr = -Ar\n",
    "dr = 10**(gr/20)\n",
    "dp = 1-10**(gp/20)\n",
    "wr = (200*np.pi*a1)+850\n",
    "wp = (200*np.pi*a1)+200\n"
   ]
  },
  {
   "cell_type": "code",
   "execution_count": null,
   "metadata": {},
   "outputs": [],
   "source": [
    "N,Wn = sp.signal.buttord(wr,wp, Ap, Ar,analog = True)\n",
    "print(N,Wn)"
   ]
  },
  {
   "cell_type": "code",
   "execution_count": null,
   "metadata": {},
   "outputs": [],
   "source": [
    "z,p,k =sp.signal.buttap(N)"
   ]
  },
  {
   "cell_type": "code",
   "execution_count": null,
   "metadata": {},
   "outputs": [],
   "source": [
    "b,a = sp.signal.zpk2tf(z,p,k)"
   ]
  },
  {
   "cell_type": "code",
   "execution_count": null,
   "metadata": {},
   "outputs": [],
   "source": [
    "w, h = sp.signal.freqs(b, a, np.linspace(0, 10, 10000))"
   ]
  },
  {
   "cell_type": "code",
   "execution_count": null,
   "metadata": {
    "scrolled": true
   },
   "outputs": [],
   "source": [
    "plt.plot(w, (abs(h)),'b')\n",
    "plt.xscale('log')\n",
    "plt.title('Butterworth filter frequency response')\n",
    "plt.xlabel('Frequency [radians / second]')\n",
    "plt.ylabel('Amplitude [dB]')\n",
    "plt.margins(0, 0.1)\n",
    "plt.fill([0, 0,  0.7,  0.7], [0, .98,.98 ,0 ], '0.8', lw=0) # pass\n",
    "plt.fill([2, 2, 10, 10], [0,  0.99,  0.99, 0], '0.8') # stop\n",
    "plt.grid(which='both', axis='both')\n",
    "plt.show()"
   ]
  },
  {
   "cell_type": "code",
   "execution_count": null,
   "metadata": {},
   "outputs": [],
   "source": [
    "wo = (wp+wr)/2"
   ]
  },
  {
   "cell_type": "code",
   "execution_count": null,
   "metadata": {},
   "outputs": [],
   "source": [
    "q, o =sp.signal.lp2lp(b, a, wo)"
   ]
  },
  {
   "cell_type": "code",
   "execution_count": null,
   "metadata": {
    "scrolled": false
   },
   "outputs": [],
   "source": [
    "a1=1\n",
    "a2=3\n",
    "fs = 50*2*200*(a1+a2)\n",
    "print(fs)\n",
    "t = np.arange(0,5,1/fs)\n",
    "x = 5*np.sin(200*np.pi*a1*t) - 3*np.sin(200*np.pi*a2*t) + 4*np.sin(200*np.pi*(a1+a2)*t)\n",
    "\n",
    "at,yaout,xaout=sp.signal.lsim2((q,o), x, t)"
   ]
  },
  {
   "cell_type": "code",
   "execution_count": null,
   "metadata": {},
   "outputs": [],
   "source": [
    "yaideal=5*np.sin(200*np.pi*a1*t)"
   ]
  },
  {
   "cell_type": "code",
   "execution_count": null,
   "metadata": {},
   "outputs": [],
   "source": [
    "plt.figure(figsize=(30,6))\n",
    "plt.plot(at, yaout,'b',label=\"Filtrado\")\n",
    "plt.plot(t,yaideal,'r',label=\"Nao Filtrado\")\n",
    "plt.title('Sinal filtrado x sinal ideal')\n",
    "plt.xlabel('Time')\n",
    "plt.ylabel('Amplitude')\n",
    "plt.legend(loc='lower right')\n",
    "plt.grid(which='both', axis='both')\n",
    "plt.xlim((0, .05))\n",
    "plt.show()"
   ]
  },
  {
   "cell_type": "markdown",
   "metadata": {},
   "source": [
    "# Filtro passa-alta\n",
    "## Filtro elíptico\n",
    "b) Passa-altas (yb): em que apenas a frequência correspondente à a1 + a2 apareça na saída do filtro;"
   ]
  },
  {
   "cell_type": "markdown",
   "metadata": {},
   "source": [
    "Filtros elípticos são bastante eficientes quanto à redução da complexidade computacional\n",
    "devido às faixas de passagem e rejeição. De ceta forma aproximação \n",
    "elíptica tem características que permitem obter a mais rápida transição\n",
    "entre a banda de passagem e a banda de corte, além de conter oscilações controladas. Isto significa que ele minimiza\n",
    "o erro máximo entre ambas as bandas, ao contrário do filtro Chebyshev, que apresenta ripple apenas na banda passante, ou no caso do Chebyshev inverso, na banda rejeição."
   ]
  },
  {
   "cell_type": "code",
   "execution_count": 5,
   "metadata": {},
   "outputs": [],
   "source": [
    "Ap = 0.5    #dB\n",
    "Ar = 35     #dB - Peso \n",
    "gp = -Ap\n",
    "gr = -Ar\n",
    "\n",
    "wr_pa = 200*np.pi*(a1+a2)-150\n",
    "wp_pa = 200*np.pi*(a1+a2)-50\n",
    "\n"
   ]
  },
  {
   "cell_type": "code",
   "execution_count": 6,
   "metadata": {},
   "outputs": [],
   "source": [
    "N_pa,Wn_pa = sp.signal.ellipord(wr_pa,wp_pa, Ap, Ar,analog = True) #funcao retorna a ordem do filtro de acordo com as freq \n",
    "\n",
    "z_pa,p_pa,k_pa = sp.signal.ellipap(N_pa,Ap,Ar)\n",
    "\n",
    "b_pa,a_pa = sp.signal.zpk2tf(z_pa,p_pa,k_pa)\n",
    "\n",
    "w_pa, h_pa = sp.signal.freqs(b_pa, a_pa, np.linspace(0, 10, 500))"
   ]
  },
  {
   "cell_type": "code",
   "execution_count": 7,
   "metadata": {},
   "outputs": [
    {
     "data": {
      "image/png": "[encoded data removed]",
      "text/plain": [
       "<Figure size 432x288 with 1 Axes>"
      ]
     },
     "metadata": {},
     "output_type": "display_data"
    }
   ],
   "source": [
    "plt.plot(w_pa, (abs(h_pa)),\"b\")\n",
    "plt.xscale('log')\n",
    "plt.title('Elliptic filter frequency response')\n",
    "plt.xlabel('Frequency [radians / second]')\n",
    "plt.ylabel('Amplitude [dB]')\n",
    "plt.margins()\n",
    "plt.fill([0, 0,  0.7,  0.7], [0, .94, .94,0 ], '0.8', lw=0) # pass\n",
    "plt.fill([1.4, 1.4, 10, 10], [0.02,  0.99,  0.99, 0.02], '0.8') # stop\n",
    "plt.grid(which='both', axis='both')\n",
    "plt.show()"
   ]
  },
  {
   "cell_type": "code",
   "execution_count": null,
   "metadata": {},
   "outputs": [],
   "source": [
    "wo_pa = (wp_pa+wr_pa)/2 #formula para frequencia de corte ( Media de freq passagem e freq de rejeicao)\n",
    "q_pa,o_pa = sp.signal.lp2hp(b_pa, a_pa, wo_pa)\n",
    "\n",
    "at_pa,yaout_pa,xaout_pa= sp.signal.lsim2((q_pa,o_pa), x, t)\n",
    "\n",
    "ybideal = 4*np.sin(200*np.pi*(a1+a2)*t)"
   ]
  },
  {
   "cell_type": "code",
   "execution_count": null,
   "metadata": {},
   "outputs": [],
   "source": [
    "plt.figure(figsize=(30,6))\n",
    "plt.plot(at_pa, yaout_pa, 'b',label=\"Filtrado\")\n",
    "plt.plot(t,ybideal,'r',label=\"Nao Filtrado\")\n",
    "plt.title('Sinal filtrado x Sinal ideal')\n",
    "plt.xlabel('Time')\n",
    "plt.ylabel('Amplitude')\n",
    "plt.legend(loc='lower right')\n",
    "plt.grid(which='both', axis='both')\n",
    "plt.xlim(0,0.04)\n",
    "plt.show()\n",
    "\n"
   ]
  },
  {
   "cell_type": "markdown",
   "metadata": {},
   "source": [
    "## Rejeita faixa"
   ]
  },
  {
   "cell_type": "markdown",
   "metadata": {},
   "source": [
    "c) Rejeita-faixa (yc): em que a frequência correspondente à a2 seja filtrada e não apareça na saída do filtro."
   ]
  },
  {
   "cell_type": "markdown",
   "metadata": {},
   "source": [
    "Na aproximação Chebyshev, pode-se obter uma maior inclinação entre a banda passante e a banda de corte, \n",
    "autorizando uma banda de transição mais estreita, e comprometendo a resposta em frequência na banda de passagem ou de corte.\n",
    "Nesse sentido o Chebyshev tipo II apresenta odulação na banda de rejeição."
   ]
  },
  {
   "cell_type": "code",
   "execution_count": null,
   "metadata": {},
   "outputs": [],
   "source": [
    "Ap = 30    #dB\n",
    "Ar = 65     #dB\n",
    "gp = -Ap\n",
    "gr = -Ar\n",
    "\n",
    "wr1_rf = (200*np.pi*a2)-50\n",
    "wp1_rf = (200*np.pi*a2)-70\n",
    "wp2_rf = (200*np.pi*a2)+150\n",
    "wr2_rf = (200*np.pi*a2)+130"
   ]
  },
  {
   "cell_type": "code",
   "execution_count": null,
   "metadata": {},
   "outputs": [],
   "source": [
    "N_rf,Wn1_rf = sp.signal.cheb2ord([wr1_rf,wr2_rf],[wp1_rf,wp2_rf],Ap, Ar,analog = True) "
   ]
  },
  {
   "cell_type": "code",
   "execution_count": null,
   "metadata": {},
   "outputs": [],
   "source": [
    "N_rf"
   ]
  },
  {
   "cell_type": "code",
   "execution_count": null,
   "metadata": {},
   "outputs": [],
   "source": [
    "z_rf,p_rf,k_rf = sp.signal.cheb2ap(N_rf,Ap)"
   ]
  },
  {
   "cell_type": "code",
   "execution_count": null,
   "metadata": {},
   "outputs": [],
   "source": [
    "b_rf,a_rf = sp.signal.zpk2tf(z_rf,p_rf,k_rf)"
   ]
  },
  {
   "cell_type": "code",
   "execution_count": null,
   "metadata": {},
   "outputs": [],
   "source": [
    "w_rf, h_rf = sp.signal.freqs(b_rf, a_rf, np.linspace(0, 10, 500))"
   ]
  },
  {
   "cell_type": "code",
   "execution_count": null,
   "metadata": {},
   "outputs": [],
   "source": [
    "plt.plot(w_rf, abs(h_rf), \"b\")\n",
    "plt.xscale('log')\n",
    "plt.title('Chebyshev 2 filter frequency response')\n",
    "plt.xlabel('Frequency [radians / second]')\n",
    "plt.ylabel('Amplitude [dB]')\n",
    "plt.margins(0, 0.1)\n",
    "plt.fill([0, 0,  0.7,  0.7], [0, .98, .98,0 ], '0.8', lw=0) # pass\n",
    "plt.fill([1.4, 1.4, 10, 10], [0.03,  0.99,  0.99, 0.023], '0.8') # stop\n",
    "#plt.xlim()\n",
    "plt.grid(which='both', axis='both')"
   ]
  },
  {
   "cell_type": "code",
   "execution_count": null,
   "metadata": {},
   "outputs": [],
   "source": [
    "wo_rf = 200*(a2*np.pi)\n",
    "bw_rf = (wp2_rf - wp1_rf)\n",
    "\n",
    "\n",
    "q_rf,o_rf = sp.signal.lp2bs(b_rf, a_rf,wo_rf, bw_rf)\n",
    "\n",
    "at_rf,yaout_rf,xaout_rf = sp.signal.lsim2((q_rf,o_rf), x, t)\n",
    "\n",
    "ycideal = 3*np.sin(200*np.pi*a2*t)"
   ]
  },
  {
   "cell_type": "code",
   "execution_count": null,
   "metadata": {},
   "outputs": [],
   "source": [
    "plt.figure(figsize=(30,6))\n",
    "plt.plot(at_rf, yaout_rf, 'b',label=\"Filtrado\")\n",
    "plt.plot(t,ycideal,'r',label=\"Nao Filtrado\")\n",
    "plt.title('Sinal filtrado x Sinal ideal')\n",
    "plt.xlabel('Time')\n",
    "plt.ylabel('Amplitude')\n",
    "plt.legend(loc='lower right')\n",
    "plt.grid(which='both', axis='both')\n",
    "plt.xlim(0,.02)\n",
    "plt.show()"
   ]
  },
  {
   "cell_type": "markdown",
   "metadata": {},
   "source": [
    "\n",
    "Neste trabalho, apresentou-se o projeto e implementação no software computacional Jupyter Notebook, filtros\n",
    "IIR. Onde foram desenvolvidos três filtros por aproximação, Butterworth, Chebyshev tipo II e Elípticos.\n",
    "Sendo assim, através dos cálculos realizados para projetar e identificar, características do filtro,\n",
    "como frequência de amostragem,banda de passagem, banda de rejeição, frequência de corte, de rejeição, entre outros mais,\n",
    "foi possível obter gráficos que trouxeram uma boa compreensão do comportamento de cada filtro projetado e simulado.\n",
    "Por outro lado, também foi possível observar o quanto aproximações de filtros analógicos podem apresentar mau condicionamento,\n",
    "quando o mesmo tem uma faixa de transição ou de passagem muito estreita. Entretando, foi muito importante e proveitoso ter\n",
    "contato com essa ferramenta, além de propiciar uma gama de possibilidades e utilizades que estas e outras podem ser aplicadas. "
   ]
  },
  {
   "cell_type": "markdown",
   "metadata": {},
   "source": [
    "Referência:\n",
    "\n",
    "1 - S.R.DINIZ, Paulo; A.B DA SILVA, Eduardo; L.NETTO, Sergio. Processamento Digital de Sinais: projeto e análise de sistemas..\n",
    "    2º. ed. Porto Alegre: Bookman, 2014. 976 p.\n",
    "\n",
    "2 -S, Sphinx. Signal processing: (scipy.signal). 2018. Disponível em: <https://docs.scipy.org/doc/scipy-0.17.0/reference/signal.html>.\n",
    "            Acesso em: 05 dez. 2018.\n",
    "            \n",
    "3 -HIGUTI, R. T., Notas de aula de PDS, dispon´ıvel em http://www.feis.unesp.br/"
   ]
  },
  {
   "cell_type": "code",
   "execution_count": null,
   "metadata": {},
   "outputs": [],
   "source": []
  }
 ],
 "metadata": {
  "kernelspec": {
   "display_name": "Python 3",
   "language": "python",
   "name": "python3"
  },
  "language_info": {
   "codemirror_mode": {
    "name": "ipython",
    "version": 3
   },
   "file_extension": ".py",
   "mimetype": "text/x-python",
   "name": "python",
   "nbconvert_exporter": "python",
   "pygments_lexer": "ipython3",
   "version": "3.6.5"
  }
 },
 "nbformat": 4,
 "nbformat_minor": 2
}
